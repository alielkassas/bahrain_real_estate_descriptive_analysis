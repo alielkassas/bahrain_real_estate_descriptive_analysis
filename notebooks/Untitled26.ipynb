{
 "cells": [
  {
   "cell_type": "code",
   "execution_count": 9,
   "id": "84a40ed2-cec2-42ed-9ced-4e2a22aff4a8",
   "metadata": {},
   "outputs": [
    {
     "name": "stdout",
     "output_type": "stream",
     "text": [
      "{'coord': {'lon': 50.5822, 'lat': 26.2235}, 'summery': 'سماء صافية, 310.34K, feels like 317.34K, winds 3.09 meter/sec from Northeast, 70% humidity', 'weather': [{'id': 800, 'main': 'Clear', 'description': 'سماء صافية', 'icon': 'https://openweathermap.org/img/wn/01d@2x.png'}], 'base': 'stations', 'main': {'temprature': 310.34, 'temprature_feels_like': 317.34, 'temprature_min': 310.12, 'temprature_max': 310.34, 'temprature_unit': 'K', 'pressure': 1003, 'humidity': 70, 'humidity_unit': '%', 'sea_level_pressure': 1003, 'ground_level_pressure': 1003, 'pressure_unit': 'hPa'}, 'visibility_distance': 10000, 'visibility_unit': 'm', 'wind': {'speed': 3.09, 'degrees': 50, 'direction': 'Northeast', 'speed_unit': 'meter/sec'}, 'rain': {'amount': 0, 'unit': 'mm in the last 1 hour'}, 'snow': {'amount': 0, 'unit': 'mm in the last 1 hour'}, 'clouds': {'cloudiness': 0, 'unit': '%'}, 'dt': 1754807560, 'dt_txt': '2025-08-10T06:32:40.000Z', 'sys': {'type': 2, 'id': 2039996, 'country': 'BH', 'sunrise': 1754791662, 'sunrise_txt': '2025-08-10T02:07:42.000Z', 'sunset': 1754839110, 'sunset_txt': '2025-08-10T15:18:30.000Z'}, 'timezone': 10800, 'id': 290082, 'name': 'أُمّ اَلشَّعُوم', 'cod': 200}\n"
     ]
    }
   ],
   "source": [
    "import requests\n",
    "\n",
    "url = \"https://weather-api167.p.rapidapi.com/api/weather/current\"\n",
    "\n",
    "querystring = {\"place\":\"Manama,Bahrain\",\"units\":\"standard\",\"lang\":\"ar\",\"mode\":\"json\"}\n",
    "\n",
    "headers = {\n",
    "\t\"x-rapidapi-key\": \"42b658ed22msh1f20b37806e42efp1083f8jsnc035d5a95c86\",\n",
    "\t\"x-rapidapi-host\": \"weather-api167.p.rapidapi.com\",\n",
    "\t\"Accept\": \"application/json\"\n",
    "}\n",
    "\n",
    "response = requests.get(url, headers=headers, params=querystring)\n",
    "\n",
    "print(response.json())"
   ]
  },
  {
   "cell_type": "code",
   "execution_count": 10,
   "id": "6a7f706f-3de2-447d-8b9c-5774002839a1",
   "metadata": {},
   "outputs": [
    {
     "data": {
      "text/html": [
       "<div>\n",
       "<style scoped>\n",
       "    .dataframe tbody tr th:only-of-type {\n",
       "        vertical-align: middle;\n",
       "    }\n",
       "\n",
       "    .dataframe tbody tr th {\n",
       "        vertical-align: top;\n",
       "    }\n",
       "\n",
       "    .dataframe thead th {\n",
       "        text-align: right;\n",
       "    }\n",
       "</style>\n",
       "<table border=\"1\" class=\"dataframe\">\n",
       "  <thead>\n",
       "    <tr style=\"text-align: right;\">\n",
       "      <th></th>\n",
       "      <th>summery</th>\n",
       "      <th>weather</th>\n",
       "      <th>base</th>\n",
       "      <th>visibility_distance</th>\n",
       "      <th>visibility_unit</th>\n",
       "      <th>dt</th>\n",
       "      <th>dt_txt</th>\n",
       "      <th>timezone</th>\n",
       "      <th>id</th>\n",
       "      <th>name</th>\n",
       "      <th>...</th>\n",
       "      <th>snow.unit</th>\n",
       "      <th>clouds.cloudiness</th>\n",
       "      <th>clouds.unit</th>\n",
       "      <th>sys.type</th>\n",
       "      <th>sys.id</th>\n",
       "      <th>sys.country</th>\n",
       "      <th>sys.sunrise</th>\n",
       "      <th>sys.sunrise_txt</th>\n",
       "      <th>sys.sunset</th>\n",
       "      <th>sys.sunset_txt</th>\n",
       "    </tr>\n",
       "  </thead>\n",
       "  <tbody>\n",
       "    <tr>\n",
       "      <th>0</th>\n",
       "      <td>سماء صافية, 310.34K, feels like 317.34K, winds...</td>\n",
       "      <td>[{'id': 800, 'main': 'Clear', 'description': '...</td>\n",
       "      <td>stations</td>\n",
       "      <td>10000</td>\n",
       "      <td>m</td>\n",
       "      <td>1754807560</td>\n",
       "      <td>2025-08-10T06:32:40.000Z</td>\n",
       "      <td>10800</td>\n",
       "      <td>290082</td>\n",
       "      <td>أُمّ اَلشَّعُوم</td>\n",
       "      <td>...</td>\n",
       "      <td>mm in the last 1 hour</td>\n",
       "      <td>0</td>\n",
       "      <td>%</td>\n",
       "      <td>2</td>\n",
       "      <td>2039996</td>\n",
       "      <td>BH</td>\n",
       "      <td>1754791662</td>\n",
       "      <td>2025-08-10T02:07:42.000Z</td>\n",
       "      <td>1754839110</td>\n",
       "      <td>2025-08-10T15:18:30.000Z</td>\n",
       "    </tr>\n",
       "  </tbody>\n",
       "</table>\n",
       "<p>1 rows × 41 columns</p>\n",
       "</div>"
      ],
      "text/plain": [
       "                                             summery  \\\n",
       "0  سماء صافية, 310.34K, feels like 317.34K, winds...   \n",
       "\n",
       "                                             weather      base  \\\n",
       "0  [{'id': 800, 'main': 'Clear', 'description': '...  stations   \n",
       "\n",
       "   visibility_distance visibility_unit          dt                    dt_txt  \\\n",
       "0                10000               m  1754807560  2025-08-10T06:32:40.000Z   \n",
       "\n",
       "   timezone      id             name  ...              snow.unit  \\\n",
       "0     10800  290082  أُمّ اَلشَّعُوم  ...  mm in the last 1 hour   \n",
       "\n",
       "   clouds.cloudiness  clouds.unit  sys.type   sys.id  sys.country  \\\n",
       "0                  0            %         2  2039996           BH   \n",
       "\n",
       "   sys.sunrise           sys.sunrise_txt  sys.sunset            sys.sunset_txt  \n",
       "0   1754791662  2025-08-10T02:07:42.000Z  1754839110  2025-08-10T15:18:30.000Z  \n",
       "\n",
       "[1 rows x 41 columns]"
      ]
     },
     "execution_count": 10,
     "metadata": {},
     "output_type": "execute_result"
    }
   ],
   "source": [
    "import pandas as pd\n",
    "\n",
    "df = pd.json_normalize(response.json())\n",
    "df"
   ]
  },
  {
   "cell_type": "code",
   "execution_count": 11,
   "id": "188f0f97-40a8-48f8-b424-b0c564082d86",
   "metadata": {},
   "outputs": [
    {
     "data": {
      "text/plain": [
       "<Response [200]>"
      ]
     },
     "execution_count": 11,
     "metadata": {},
     "output_type": "execute_result"
    }
   ],
   "source": [
    "response"
   ]
  },
  {
   "cell_type": "code",
   "execution_count": null,
   "id": "f4f15584-86a1-4467-a18c-1b4bf200d8e6",
   "metadata": {},
   "outputs": [],
   "source": []
  }
 ],
 "metadata": {
  "kernelspec": {
   "display_name": "Python 3 (ipykernel)",
   "language": "python",
   "name": "python3"
  },
  "language_info": {
   "codemirror_mode": {
    "name": "ipython",
    "version": 3
   },
   "file_extension": ".py",
   "mimetype": "text/x-python",
   "name": "python",
   "nbconvert_exporter": "python",
   "pygments_lexer": "ipython3",
   "version": "3.9.23"
  }
 },
 "nbformat": 4,
 "nbformat_minor": 5
}
